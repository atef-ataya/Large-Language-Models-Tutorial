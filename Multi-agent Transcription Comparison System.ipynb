{
 "cells": [
  {
   "cell_type": "markdown",
   "id": "4c0a88f4-f07f-4033-b46f-3f0520a6e7c3",
   "metadata": {},
   "source": [
    "# Tutorial"
   ]
  },
  {
   "cell_type": "markdown",
   "id": "4213b4ba-2845-4a69-b92b-70d5e7541c11",
   "metadata": {},
   "source": [
    "### Installing Required Libraries"
   ]
  },
  {
   "cell_type": "code",
   "execution_count": 7,
   "id": "e4743ecc-9bbb-4292-9f9b-827298d5f4a4",
   "metadata": {},
   "outputs": [
    {
     "name": "stdout",
     "output_type": "stream",
     "text": [
      "\n",
      "\u001b[1m[\u001b[0m\u001b[34;49mnotice\u001b[0m\u001b[1;39;49m]\u001b[0m\u001b[39;49m A new release of pip is available: \u001b[0m\u001b[31;49m24.0\u001b[0m\u001b[39;49m -> \u001b[0m\u001b[32;49m24.2\u001b[0m\n",
      "\u001b[1m[\u001b[0m\u001b[34;49mnotice\u001b[0m\u001b[1;39;49m]\u001b[0m\u001b[39;49m To update, run: \u001b[0m\u001b[32;49m/opt/anaconda3/bin/python -m pip install --upgrade pip\u001b[0m\n",
      "Note: you may need to restart the kernel to use updated packages.\n"
     ]
    }
   ],
   "source": [
    "pip install ag2 -q"
   ]
  },
  {
   "cell_type": "markdown",
   "id": "62ac829f-bc02-4b9e-992b-b7568de06a1f",
   "metadata": {},
   "source": [
    "### Upgrade AutoGen"
   ]
  },
  {
   "cell_type": "code",
   "execution_count": 9,
   "id": "e453e339-3870-4a76-92f7-d818c8df6275",
   "metadata": {},
   "outputs": [
    {
     "name": "stdout",
     "output_type": "stream",
     "text": [
      "\n",
      "\u001b[1m[\u001b[0m\u001b[34;49mnotice\u001b[0m\u001b[1;39;49m]\u001b[0m\u001b[39;49m A new release of pip is available: \u001b[0m\u001b[31;49m24.0\u001b[0m\u001b[39;49m -> \u001b[0m\u001b[32;49m24.2\u001b[0m\n",
      "\u001b[1m[\u001b[0m\u001b[34;49mnotice\u001b[0m\u001b[1;39;49m]\u001b[0m\u001b[39;49m To update, run: \u001b[0m\u001b[32;49m/opt/anaconda3/bin/python -m pip install --upgrade pip\u001b[0m\n",
      "Note: you may need to restart the kernel to use updated packages.\n"
     ]
    }
   ],
   "source": [
    "pip install --upgrade ag2 -q"
   ]
  },
  {
   "cell_type": "markdown",
   "id": "fc663471-e892-44ef-9fd0-0217b21d25e8",
   "metadata": {},
   "source": [
    "### Installing AgentOps"
   ]
  },
  {
   "cell_type": "code",
   "execution_count": 165,
   "id": "eff60086-f1d6-4b1a-8c24-3d18ea0c291e",
   "metadata": {},
   "outputs": [
    {
     "name": "stdout",
     "output_type": "stream",
     "text": [
      "Requirement already satisfied: ag2 in /opt/anaconda3/lib/python3.11/site-packages (0.2.34)\n",
      "Requirement already satisfied: agentops in /opt/anaconda3/lib/python3.11/site-packages (0.3.9)\n",
      "Requirement already satisfied: diskcache in /opt/anaconda3/lib/python3.11/site-packages (from ag2) (5.6.3)\n",
      "Requirement already satisfied: docker in /opt/anaconda3/lib/python3.11/site-packages (from ag2) (7.1.0)\n",
      "Requirement already satisfied: flaml in /opt/anaconda3/lib/python3.11/site-packages (from ag2) (2.1.2)\n",
      "Requirement already satisfied: numpy<2,>=1.17.0 in /opt/anaconda3/lib/python3.11/site-packages (from ag2) (1.26.4)\n",
      "Requirement already satisfied: openai>=1.3 in /opt/anaconda3/lib/python3.11/site-packages (from ag2) (1.33.0)\n",
      "Requirement already satisfied: packaging in /opt/anaconda3/lib/python3.11/site-packages (from ag2) (23.2)\n",
      "Requirement already satisfied: pydantic!=2.6.0,<3,>=1.10 in /opt/anaconda3/lib/python3.11/site-packages (from ag2) (2.7.1)\n",
      "Requirement already satisfied: python-dotenv in /opt/anaconda3/lib/python3.11/site-packages (from ag2) (0.21.0)\n",
      "Requirement already satisfied: termcolor in /opt/anaconda3/lib/python3.11/site-packages (from ag2) (2.4.0)\n",
      "Requirement already satisfied: tiktoken in /opt/anaconda3/lib/python3.11/site-packages (from ag2) (0.6.0)\n",
      "Requirement already satisfied: requests==2.31.0 in /opt/anaconda3/lib/python3.11/site-packages (from agentops) (2.31.0)\n",
      "Requirement already satisfied: psutil==5.9.8 in /opt/anaconda3/lib/python3.11/site-packages (from agentops) (5.9.8)\n",
      "Requirement already satisfied: charset-normalizer<4,>=2 in /opt/anaconda3/lib/python3.11/site-packages (from requests==2.31.0->agentops) (3.3.2)\n",
      "Requirement already satisfied: idna<4,>=2.5 in /opt/anaconda3/lib/python3.11/site-packages (from requests==2.31.0->agentops) (3.6)\n",
      "Requirement already satisfied: urllib3<3,>=1.21.1 in /opt/anaconda3/lib/python3.11/site-packages (from requests==2.31.0->agentops) (1.26.18)\n",
      "Requirement already satisfied: certifi>=2017.4.17 in /opt/anaconda3/lib/python3.11/site-packages (from requests==2.31.0->agentops) (2024.2.2)\n",
      "Requirement already satisfied: anyio<5,>=3.5.0 in /opt/anaconda3/lib/python3.11/site-packages (from openai>=1.3->ag2) (4.2.0)\n",
      "Requirement already satisfied: distro<2,>=1.7.0 in /opt/anaconda3/lib/python3.11/site-packages (from openai>=1.3->ag2) (1.8.0)\n",
      "Requirement already satisfied: httpx<1,>=0.23.0 in /opt/anaconda3/lib/python3.11/site-packages (from openai>=1.3->ag2) (0.26.0)\n",
      "Requirement already satisfied: sniffio in /opt/anaconda3/lib/python3.11/site-packages (from openai>=1.3->ag2) (1.3.0)\n",
      "Requirement already satisfied: tqdm>4 in /opt/anaconda3/lib/python3.11/site-packages (from openai>=1.3->ag2) (4.66.2)\n",
      "Requirement already satisfied: typing-extensions<5,>=4.7 in /opt/anaconda3/lib/python3.11/site-packages (from openai>=1.3->ag2) (4.9.0)\n",
      "Requirement already satisfied: annotated-types>=0.4.0 in /opt/anaconda3/lib/python3.11/site-packages (from pydantic!=2.6.0,<3,>=1.10->ag2) (0.6.0)\n",
      "Requirement already satisfied: pydantic-core==2.18.2 in /opt/anaconda3/lib/python3.11/site-packages (from pydantic!=2.6.0,<3,>=1.10->ag2) (2.18.2)\n",
      "Requirement already satisfied: regex>=2022.1.18 in /opt/anaconda3/lib/python3.11/site-packages (from tiktoken->ag2) (2023.12.25)\n",
      "Requirement already satisfied: httpcore==1.* in /opt/anaconda3/lib/python3.11/site-packages (from httpx<1,>=0.23.0->openai>=1.3->ag2) (1.0.2)\n",
      "Requirement already satisfied: h11<0.15,>=0.13 in /opt/anaconda3/lib/python3.11/site-packages (from httpcore==1.*->httpx<1,>=0.23.0->openai>=1.3->ag2) (0.14.0)\n",
      "\n",
      "\u001b[1m[\u001b[0m\u001b[34;49mnotice\u001b[0m\u001b[1;39;49m]\u001b[0m\u001b[39;49m A new release of pip is available: \u001b[0m\u001b[31;49m24.0\u001b[0m\u001b[39;49m -> \u001b[0m\u001b[32;49m24.2\u001b[0m\n",
      "\u001b[1m[\u001b[0m\u001b[34;49mnotice\u001b[0m\u001b[1;39;49m]\u001b[0m\u001b[39;49m To update, run: \u001b[0m\u001b[32;49m/opt/anaconda3/bin/python -m pip install --upgrade pip\u001b[0m\n",
      "Note: you may need to restart the kernel to use updated packages.\n"
     ]
    }
   ],
   "source": [
    "pip install ag2 agentops"
   ]
  },
  {
   "cell_type": "markdown",
   "id": "c531f6a7-88d4-4104-b83c-6afd3525f254",
   "metadata": {},
   "source": [
    "### Upgrade AgentOps"
   ]
  },
  {
   "cell_type": "code",
   "execution_count": 167,
   "id": "4b38533a-0447-4af7-afee-8504de908bcc",
   "metadata": {},
   "outputs": [
    {
     "name": "stdout",
     "output_type": "stream",
     "text": [
      "Requirement already satisfied: agentops in /opt/anaconda3/lib/python3.11/site-packages (0.3.9)\n",
      "Requirement already satisfied: requests==2.31.0 in /opt/anaconda3/lib/python3.11/site-packages (from agentops) (2.31.0)\n",
      "Requirement already satisfied: psutil==5.9.8 in /opt/anaconda3/lib/python3.11/site-packages (from agentops) (5.9.8)\n",
      "Requirement already satisfied: packaging==23.2 in /opt/anaconda3/lib/python3.11/site-packages (from agentops) (23.2)\n",
      "Requirement already satisfied: termcolor==2.4.0 in /opt/anaconda3/lib/python3.11/site-packages (from agentops) (2.4.0)\n",
      "Requirement already satisfied: charset-normalizer<4,>=2 in /opt/anaconda3/lib/python3.11/site-packages (from requests==2.31.0->agentops) (3.3.2)\n",
      "Requirement already satisfied: idna<4,>=2.5 in /opt/anaconda3/lib/python3.11/site-packages (from requests==2.31.0->agentops) (3.6)\n",
      "Requirement already satisfied: urllib3<3,>=1.21.1 in /opt/anaconda3/lib/python3.11/site-packages (from requests==2.31.0->agentops) (1.26.18)\n",
      "Requirement already satisfied: certifi>=2017.4.17 in /opt/anaconda3/lib/python3.11/site-packages (from requests==2.31.0->agentops) (2024.2.2)\n",
      "\n",
      "\u001b[1m[\u001b[0m\u001b[34;49mnotice\u001b[0m\u001b[1;39;49m]\u001b[0m\u001b[39;49m A new release of pip is available: \u001b[0m\u001b[31;49m24.0\u001b[0m\u001b[39;49m -> \u001b[0m\u001b[32;49m24.2\u001b[0m\n",
      "\u001b[1m[\u001b[0m\u001b[34;49mnotice\u001b[0m\u001b[1;39;49m]\u001b[0m\u001b[39;49m To update, run: \u001b[0m\u001b[32;49m/opt/anaconda3/bin/python -m pip install --upgrade pip\u001b[0m\n",
      "Note: you may need to restart the kernel to use updated packages.\n"
     ]
    }
   ],
   "source": [
    "pip install --upgrade agentops "
   ]
  },
  {
   "cell_type": "markdown",
   "id": "4e60dacc-ab1f-4c43-b534-a30758b0412a",
   "metadata": {},
   "source": [
    "### Initiate AgentOps"
   ]
  },
  {
   "cell_type": "code",
   "execution_count": 170,
   "id": "050b06d0-fa4a-419c-bf01-65637dc8b08e",
   "metadata": {},
   "outputs": [
    {
     "name": "stderr",
     "output_type": "stream",
     "text": [
      "🖇 AgentOps: AgentOps has already been initialized. If you are trying to start a session, call agentops.start_session() instead.\n",
      "🖇 AgentOps: \u001b[34m\u001b[34mSession Replay: https://app.agentops.ai/drilldown?session_id=7fc9af68-fa1c-4994-9f5d-af4a50959ab7\u001b[0m\u001b[0m\n"
     ]
    }
   ],
   "source": [
    "import agentops\n",
    "agentops.init(api_key=\"4e9c3c09-b24a-4355-8da0-769dd9ced91f\")\n",
    "session_comparison_agent = agentops.start_session(\"Multi-agent Transcription Comparison\")"
   ]
  },
  {
   "cell_type": "markdown",
   "id": "d6d7e51c-7479-4d2a-97bc-8eef87c93122",
   "metadata": {},
   "source": [
    "### Loading Environment Variables"
   ]
  },
  {
   "cell_type": "code",
   "execution_count": 173,
   "id": "c9b3e539-8490-48fd-8aa6-2c783b0dbd7e",
   "metadata": {},
   "outputs": [
    {
     "data": {
      "text/plain": [
       "True"
      ]
     },
     "execution_count": 173,
     "metadata": {},
     "output_type": "execute_result"
    }
   ],
   "source": [
    "import os\n",
    "from dotenv import load_dotenv, find_dotenv\n",
    "\n",
    "load_dotenv(find_dotenv(), override=True)"
   ]
  },
  {
   "cell_type": "markdown",
   "id": "04e4b7bc-a7fb-41ca-87b0-2915479cc826",
   "metadata": {},
   "source": [
    "### Example of ConversableAgent"
   ]
  },
  {
   "cell_type": "code",
   "execution_count": 176,
   "id": "eb2ae2aa-99c0-4d30-8b22-6ec547bef81d",
   "metadata": {},
   "outputs": [],
   "source": [
    "from autogen import ConversableAgent\n",
    "\n",
    "agent = ConversableAgent(\n",
    "    \"chatbot\",\n",
    "    llm_config={\n",
    "        \"config_list\":[\n",
    "            {\n",
    "                \"model\":\"gpt-4\",\n",
    "                \"api_key\":os.environ.get(\"OPENAI_API_KEY\")\n",
    "            }\n",
    "        ]\n",
    "    },\n",
    "    code_execution_config=False,\n",
    "    function_map=None,\n",
    "    human_input_mode=\"NEVER\"\n",
    ")"
   ]
  },
  {
   "cell_type": "code",
   "execution_count": 178,
   "id": "566ea97a-7ae5-4bce-b0f6-a034a83ae67c",
   "metadata": {},
   "outputs": [
    {
     "name": "stdout",
     "output_type": "stream",
     "text": [
      "The capital of the United Arab Emirates is Abu Dhabi.\n"
     ]
    }
   ],
   "source": [
    "reply = agent.generate_reply(messages=[{\n",
    "    \"content\":\"What is the capital of UAE?\",\n",
    "    \"role\":\"user\"\n",
    "}])\n",
    "\n",
    "print(reply)"
   ]
  },
  {
   "cell_type": "markdown",
   "id": "5911cca5-e286-465a-aa89-f445e2e2ad0e",
   "metadata": {},
   "source": [
    "### Roles & Conversations"
   ]
  },
  {
   "cell_type": "code",
   "execution_count": 181,
   "id": "fd2d9c25-e35c-40f3-a215-ad0488cdc14f",
   "metadata": {},
   "outputs": [],
   "source": [
    "from autogen import ConversableAgent\n",
    "import os\n",
    "\n",
    "llm_config={\n",
    "    \"config_list\":[\n",
    "        {\n",
    "            \"model\":\"gpt-4\",\n",
    "            \"temperature\":0.7,\n",
    "            \"api_key\":os.environ.get(\"OPENAI_API_KEY\")\n",
    "        }\n",
    "    ]\n",
    "}\n",
    "# Chef Agent\n",
    "chef = ConversableAgent(\n",
    "    name=\"chef\",\n",
    "    system_message=\"You are an experienced chef specializing in Italian cuisine. You provide recipes and cooking advice.\",\n",
    "    llm_config= llm_config,\n",
    "    human_input_mode=\"NEVER\"\n",
    ")\n",
    "\n",
    "# Nutritionist Agent\n",
    "nutritionist = ConversableAgent(\n",
    "    name=\"nutritionist\",\n",
    "    system_message=\"You are a certified nutritionist. You provide health and dietary advice based on recipes and ingredients.\",\n",
    "    llm_config=llm_config,\n",
    "    human_input_mode=\"NEVER\"\n",
    ")"
   ]
  },
  {
   "cell_type": "code",
   "execution_count": 183,
   "id": "a33989a6-4a3a-42d0-8137-cdcca105e10a",
   "metadata": {},
   "outputs": [
    {
     "name": "stdout",
     "output_type": "stream",
     "text": [
      "\u001b[33mchef\u001b[0m (to nutritionist):\n",
      "\n",
      "Can you suggest a healthy Italian pasta dish?\n",
      "\n",
      "--------------------------------------------------------------------------------\n",
      "\u001b[33mnutritionist\u001b[0m (to chef):\n",
      "\n",
      "Certainly, here's a recipe for a healthier version of an Italian pasta dish: Whole Wheat Spaghetti with Fresh Tomato and Basil Sauce. \n",
      "\n",
      "Ingredients:\n",
      "\n",
      "1. 200g whole wheat spaghetti\n",
      "2. 3 large ripe tomatoes\n",
      "3. 2 cloves garlic, minced\n",
      "4. 1 bunch fresh basil leaves, finely chopped\n",
      "5. 2 tablespoons extra virgin olive oil\n",
      "6. Salt and pepper, to taste\n",
      "7. Chili flakes (optional)\n",
      "8. A handful of pine nuts (optional)\n",
      "9. A sprinkle of Parmesan cheese (optional)\n",
      "\n",
      "Instructions:\n",
      "\n",
      "1. Cook the whole wheat spaghetti according to the package directions until al dente.\n",
      "\n",
      "2. Meanwhile, chop the tomatoes and put them in a large bowl. \n",
      "\n",
      "3. Add the chopped basil, minced garlic, olive oil, salt, and pepper to the bowl. Mix well and let it sit at room temperature to let the flavors meld together.\n",
      "\n",
      "4. Once the pasta is done, drain it and add it to the bowl with the tomato and basil mixture. Toss well to combine.\n",
      "\n",
      "5. If you choose to include chili flakes, pine nuts, or Parmesan cheese, you can add them now for extra flavor and texture. \n",
      "\n",
      "6. Serve immediately.\n",
      "\n",
      "This dish is high in fiber, thanks to the whole wheat pasta, and packed with fresh, nutrient-rich ingredients like tomatoes and basil. The olive oil provides healthy fats. You can add a lean protein source like grilled chicken or tofu for a complete meal.\n",
      "\n",
      "--------------------------------------------------------------------------------\n",
      "\u001b[33mchef\u001b[0m (to nutritionist):\n",
      "\n",
      "Can you suggest a traditional Italian dessert?\n",
      "\n",
      "--------------------------------------------------------------------------------\n",
      "\u001b[33mnutritionist\u001b[0m (to chef):\n",
      "\n",
      "Absolutely, here's a recipe for a healthier version of a traditional Italian dessert: Ricotta and Pear Cake.\n",
      "\n",
      "Ingredients:\n",
      "\n",
      "1. 3 ripe pears\n",
      "2. 1 1/2 cups of ricotta cheese\n",
      "3. 3/4 cup of whole wheat flour\n",
      "4. 3/4 cup of almond flour\n",
      "5. 1/4 cup of honey\n",
      "6. 3 large eggs\n",
      "7. 1 teaspoon of baking powder\n",
      "8. 1 teaspoon of vanilla extract\n",
      "9. A pinch of salt\n",
      "\n",
      "Instructions:\n",
      "\n",
      "1. Preheat your oven to 180°C (350°F) and grease a 9-inch cake pan.\n",
      "\n",
      "2. In a bowl, combine the whole wheat flour, almond flour, baking powder, and salt.\n",
      "\n",
      "3. In another bowl, whisk together the eggs, honey, and vanilla extract until smooth. Add the ricotta cheese and mix well.\n",
      "\n",
      "4. Gradually add the dry ingredients to the wet ingredients, mixing until just combined.\n",
      "\n",
      "5. Peel, core, and slice the pears. Fold half of the pear slices into the batter.\n",
      "\n",
      "6. Pour the batter into the prepared cake pan. Arrange the remaining pear slices on top of the batter.\n",
      "\n",
      "7. Bake for about 40-50 minutes, or until the cake is golden and a toothpick inserted into the center comes out clean.\n",
      "\n",
      "8. Let the cake cool before slicing. \n",
      "\n",
      "This dessert is relatively low in sugar, thanks to the natural sweetness of the pears and the use of honey as a sweetener. The whole wheat and almond flours add fiber, and the ricotta cheese provides protein and calcium. Enjoy it as a lighter finish to your meal!\n",
      "\n",
      "--------------------------------------------------------------------------------\n",
      "\u001b[33mchef\u001b[0m (to nutritionist):\n",
      "\n",
      "I want to make a simple Italian soup. Can you suggest a recipe?\n",
      "\n",
      "--------------------------------------------------------------------------------\n",
      "\u001b[33mnutritionist\u001b[0m (to chef):\n",
      "\n",
      "Of course! Minestrone is a classic Italian soup that's not only simple to make, but also healthy and comforting. Here's a basic recipe:\n",
      "\n",
      "Ingredients:\n",
      "\n",
      "1. 1 tablespoon olive oil\n",
      "2. 1 onion, diced\n",
      "3. 2 cloves garlic, minced\n",
      "4. 2 carrots, diced\n",
      "5. 2 celery stalks, diced\n",
      "6. 1 zucchini, diced\n",
      "7. 1 cup fresh or frozen green beans\n",
      "8. 1 can (400g) diced tomatoes\n",
      "9. 1 can (400g) low-sodium kidney beans, drained and rinsed\n",
      "10. 4 cups low-sodium vegetable broth\n",
      "11. 1 teaspoon dried oregano\n",
      "12. 1 teaspoon dried basil\n",
      "13. Salt and pepper to taste\n",
      "14. 1/2 cup whole grain pasta (like small shells or ditalini)\n",
      "15. Grated Parmesan and fresh basil leaves for garnish (optional)\n",
      "\n",
      "Instructions:\n",
      "\n",
      "1. Heat the olive oil in a large pot over medium heat. Add the onion, garlic, carrots, and celery, and cook until the vegetables begin to soften, about 5 minutes.\n",
      "\n",
      "2. Add the zucchini, green beans, diced tomatoes, kidney beans, vegetable broth, oregano, and basil. Season with salt and pepper. \n",
      "\n",
      "3. Bring the soup to a boil, then reduce the heat and let it simmer for about 15 minutes.\n",
      "\n",
      "4. Add the pasta to the pot and cook until the pasta is tender, about 10 minutes.\n",
      "\n",
      "5. Ladle the soup into bowls, and garnish with grated Parmesan and fresh basil leaves if desired.\n",
      "\n",
      "This soup is packed with vegetables and whole grains, making it high in fiber. The kidney beans add a good source of plant-based protein. You can easily customize this soup by adding other vegetables or beans you have on hand. Enjoy!\n",
      "\n",
      "--------------------------------------------------------------------------------\n"
     ]
    }
   ],
   "source": [
    "# Initiate a conversation\n",
    "result = chef.initiate_chat(\n",
    "    nutritionist,\n",
    "    message=\"Can you suggest a healthy Italian pasta dish?\",\n",
    "    max_turns=3\n",
    ")"
   ]
  },
  {
   "cell_type": "markdown",
   "id": "8cc2f7ed-2348-4054-ab46-db93a342c252",
   "metadata": {},
   "source": [
    "### Using max_consecutive_auto_reply"
   ]
  },
  {
   "cell_type": "code",
   "execution_count": 186,
   "id": "faf705f3-44ac-4f0e-935e-c3d2a6b40e1b",
   "metadata": {},
   "outputs": [],
   "source": [
    "from autogen import ConversableAgent\n",
    "import os\n",
    "\n",
    "llm_config={\n",
    "    \"config_list\":[\n",
    "        {\n",
    "            \"model\":\"gpt-4\",\n",
    "            \"temperature\":0.7,\n",
    "            \"api_key\":os.environ.get(\"OPENAI_API_KEY\")\n",
    "        }\n",
    "    ]\n",
    "}\n",
    "# Chef Agent\n",
    "chef = ConversableAgent(\n",
    "    name=\"chef\",\n",
    "    system_message=\"You are an experienced chef specializing in Italian cuisine. You provide recipes and cooking advice.\",\n",
    "    llm_config= llm_config,\n",
    "    human_input_mode=\"NEVER\"\n",
    ")\n",
    "\n",
    "# Nutritionist Agent\n",
    "nutritionist = ConversableAgent(\n",
    "    name=\"nutritionist\",\n",
    "    system_message=\"You are a certified nutritionist. You provide healthy and dietary advice based on recipes and ingredients.\",\n",
    "    llm_config=llm_config,\n",
    "    human_input_mode=\"NEVER\",\n",
    "    max_consecutive_auto_reply=1\n",
    ")"
   ]
  },
  {
   "cell_type": "code",
   "execution_count": 188,
   "id": "205dfd99-789e-4f7f-9bc0-38c8e7feae7d",
   "metadata": {},
   "outputs": [
    {
     "name": "stdout",
     "output_type": "stream",
     "text": [
      "\u001b[33mchef\u001b[0m (to nutritionist):\n",
      "\n",
      "Can you suggest a healthy Italian pasta dish?\n",
      "\n",
      "--------------------------------------------------------------------------------\n",
      "\u001b[33mnutritionist\u001b[0m (to chef):\n",
      "\n",
      "Absolutely! A healthy Italian pasta dish that you can try is Whole Wheat Spaghetti with Lemon, Basil, and Salmon. Here is the recipe:\n",
      "\n",
      "Ingredients:\n",
      "\n",
      "- 200g Whole Wheat Spaghetti\n",
      "- 1 tablespoon Extra Virgin Olive Oil\n",
      "- 2 cloves Garlic, minced\n",
      "- Zest and Juice of 1 Lemon\n",
      "- 1 teaspoon Red Pepper Flakes (optional, for a bit of heat)\n",
      "- 200g Fresh Salmon, skin removed and cut into chunks\n",
      "- 2 cups Fresh Basil Leaves, roughly chopped\n",
      "- Salt and Pepper to taste\n",
      "- Grated Parmesan Cheese, for serving\n",
      "\n",
      "Instructions:\n",
      "\n",
      "1. Cook the whole wheat spaghetti according to the package instructions until al dente. Reserve 1 cup of the pasta water before draining.\n",
      "\n",
      "2. While the pasta is cooking, heat the olive oil in a large skillet over medium heat. Add the garlic and cook until fragrant.\n",
      "\n",
      "3. Add the salmon to the skillet and cook until it's opaque throughout, about 3-4 minutes on each side.\n",
      "\n",
      "4. Remove the skillet from the heat and stir in the lemon zest, lemon juice, and red pepper flakes (if using). \n",
      "\n",
      "5. Add the drained spaghetti to the skillet and toss until the pasta is thoroughly coated in the lemon sauce. If needed, add a little bit of the reserved pasta water to help the sauce cling to the pasta.\n",
      "\n",
      "6. Stir in the fresh basil and season with salt and pepper to taste.\n",
      "\n",
      "7. Serve the pasta hot, topped with a sprinkle of grated Parmesan cheese.\n",
      "\n",
      "This recipe is packed with lean protein from the salmon and whole grains from the pasta. The fresh lemon and basil add a burst of flavor without adding any extra calories. The olive oil provides healthy fats that are good for heart health. Enjoy your meal!\n",
      "\n",
      "--------------------------------------------------------------------------------\n",
      "\u001b[33mchef\u001b[0m (to nutritionist):\n",
      "\n",
      "Absolutely! A healthy Italian pasta dish that you can try is Whole Wheat Spaghetti with Lemon, Basil, and Salmon. Here is the recipe:\n",
      "\n",
      "Ingredients:\n",
      "\n",
      "- 200g Whole Wheat Spaghetti\n",
      "- 1 tablespoon Extra Virgin Olive Oil\n",
      "- 2 cloves Garlic, minced\n",
      "- Zest and Juice of 1 Lemon\n",
      "- 1 teaspoon Red Pepper Flakes (optional, for a bit of heat)\n",
      "- 200g Fresh Salmon, skin removed and cut into chunks\n",
      "- 2 cups Fresh Basil Leaves, roughly chopped\n",
      "- Salt and Pepper to taste\n",
      "- Grated Parmesan Cheese, for serving\n",
      "\n",
      "Instructions:\n",
      "\n",
      "1. Cook the whole wheat spaghetti according to the package instructions until al dente. Reserve 1 cup of the pasta water before draining.\n",
      "\n",
      "2. While the pasta is cooking, heat the olive oil in a large skillet over medium heat. Add the garlic and cook until fragrant.\n",
      "\n",
      "3. Add the salmon to the skillet and cook until it's opaque throughout, about 3-4 minutes on each side.\n",
      "\n",
      "4. Remove the skillet from the heat and stir in the lemon zest, lemon juice, and red pepper flakes (if using). \n",
      "\n",
      "5. Add the drained spaghetti to the skillet and toss until the pasta is thoroughly coated in the lemon sauce. If needed, add a little bit of the reserved pasta water to help the sauce cling to the pasta.\n",
      "\n",
      "6. Stir in the fresh basil and season with salt and pepper to taste.\n",
      "\n",
      "7. Serve the pasta hot, topped with a sprinkle of grated Parmesan cheese.\n",
      "\n",
      "This recipe is packed with lean protein from the salmon and whole grains from the pasta. The fresh lemon and basil add a burst of flavor without adding any extra calories. The olive oil provides healthy fats that are good for heart health. Enjoy your meal!\n",
      "\n",
      "--------------------------------------------------------------------------------\n"
     ]
    }
   ],
   "source": [
    "# Initiate a conversation\n",
    "result = chef.initiate_chat(\n",
    "    nutritionist,\n",
    "    message=\"Can you suggest a healthy Italian pasta dish?\"\n",
    ")"
   ]
  },
  {
   "cell_type": "markdown",
   "id": "226118f8-2ba9-40dd-838f-1f560118265d",
   "metadata": {},
   "source": [
    "### Using is_termination_msg"
   ]
  },
  {
   "cell_type": "code",
   "execution_count": 191,
   "id": "0f987b40-456a-412b-a0f6-b673a98f56f6",
   "metadata": {},
   "outputs": [
    {
     "name": "stdout",
     "output_type": "stream",
     "text": [
      "\u001b[33mchef\u001b[0m (to nutritionist):\n",
      "\n",
      "Nutritionist, suggest to me a healthy Italian pasta dish and then say the words GOOD BYE.\n",
      "\n",
      "--------------------------------------------------------------------------------\n",
      "\u001b[33mchef\u001b[0m (to nutritionist):\n",
      "\n",
      "Sure, here's a recipe for a healthy Italian pasta dish: Whole Wheat Spaghetti with Fresh Vegetables and Basil.\n",
      "\n",
      "Ingredients:\n",
      "- 200 grams of whole wheat spaghetti\n",
      "- 2 tablespoons of olive oil\n",
      "- 4 cloves of garlic, minced\n",
      "- 1 large zucchini, sliced\n",
      "- 1 bell pepper, sliced\n",
      "- 200 grams of cherry tomatoes, halved\n",
      "- A handful of fresh basil leaves\n",
      "- Salt and pepper to taste\n",
      "- Grated Parmesan cheese (optional)\n",
      "\n",
      "Instructions:\n",
      "1. Cook the whole wheat spaghetti according to the package instructions until it's al dente. Drain and set it aside.\n",
      "2. Heat the olive oil in a large pan over medium heat. Add the minced garlic and sauté until it's fragrant.\n",
      "3. Add the sliced zucchini and bell pepper to the pan. Cook until the vegetables are tender.\n",
      "4. Add the halved cherry tomatoes to the pan. Cook until they're soft.\n",
      "5. Add the cooked whole wheat spaghetti to the pan. Toss everything together to combine.\n",
      "6. Tear the fresh basil leaves into smaller pieces and add them to the pan. Toss again to combine.\n",
      "7. Season the pasta with salt and pepper to taste. If desired, sprinkle some grated Parmesan cheese on top.\n",
      "8. Serve the pasta warm.\n",
      "\n",
      "Enjoy this healthy and delicious Italian pasta dish!\n",
      "\n",
      "GOOD BYE.\n",
      "\n",
      "--------------------------------------------------------------------------------\n",
      "\u001b[33mchef\u001b[0m (to nutritionist):\n",
      "\n",
      "Sure, here's a recipe for a healthy Italian pasta dish: Whole Wheat Spaghetti with Fresh Vegetables and Basil.\n",
      "\n",
      "Ingredients:\n",
      "- 200 grams of whole wheat spaghetti\n",
      "- 2 tablespoons of olive oil\n",
      "- 4 cloves of garlic, minced\n",
      "- 1 large zucchini, sliced\n",
      "- 1 bell pepper, sliced\n",
      "- 200 grams of cherry tomatoes, halved\n",
      "- A handful of fresh basil leaves\n",
      "- Salt and pepper to taste\n",
      "- Grated Parmesan cheese (optional)\n",
      "\n",
      "Instructions:\n",
      "1. Cook the whole wheat spaghetti according to the package instructions until it's al dente. Drain and set it aside.\n",
      "2. Heat the olive oil in a large pan over medium heat. Add the minced garlic and sauté until it's fragrant.\n",
      "3. Add the sliced zucchini and bell pepper to the pan. Cook until the vegetables are tender.\n",
      "4. Add the halved cherry tomatoes to the pan. Cook until they're soft.\n",
      "5. Add the cooked whole wheat spaghetti to the pan. Toss everything together to combine.\n",
      "6. Tear the fresh basil leaves into smaller pieces and add them to the pan. Toss again to combine.\n",
      "7. Season the pasta with salt and pepper to taste. If desired, sprinkle some grated Parmesan cheese on top.\n",
      "8. Serve the pasta warm.\n",
      "\n",
      "Enjoy this healthy and delicious Italian pasta dish!\n",
      "\n",
      "GOOD BYE.\n",
      "\n",
      "--------------------------------------------------------------------------------\n"
     ]
    }
   ],
   "source": [
    "from autogen import ConversableAgent\n",
    "import os\n",
    "\n",
    "llm_config = {\n",
    "    \"config_list\": [\n",
    "        {\n",
    "            \"model\": \"gpt-4\",\n",
    "            \"temperature\": 0.7,\n",
    "            \"api_key\": os.environ.get(\"OPENAI_API_KEY\")\n",
    "        }\n",
    "    ]\n",
    "}\n",
    "\n",
    "# Chef Agent\n",
    "chef = ConversableAgent(\n",
    "    name=\"chef\",\n",
    "    system_message=\"You are an experienced chef specializing in Italian cuisine. You provide recipes and cooking advice.\",\n",
    "    llm_config=llm_config,\n",
    "    human_input_mode=\"NEVER\"\n",
    ")\n",
    "\n",
    "# Nutritionist Agent\n",
    "nutritionist = ConversableAgent(\n",
    "    name=\"nutritionist\",\n",
    "    system_message=\"You are a certified nutritionist. You provide health and dietary advice based on recipes and ingredients.\",\n",
    "    llm_config=llm_config,\n",
    "    human_input_mode=\"NEVER\",\n",
    "    is_termination_msg=lambda msg: \"good bye\" in msg[\"content\"].lower(),\n",
    ")\n",
    "\n",
    "# Initiate a conversation\n",
    "result = chef.initiate_chat(\n",
    "    nutritionist,\n",
    "    message=\"Nutritionist, suggest to me a healthy Italian pasta dish and then say the words GOOD BYE.\",\n",
    "    max_turns=3\n",
    ")"
   ]
  },
  {
   "cell_type": "markdown",
   "id": "555bce06-850e-4f55-a521-8b6ded2a2788",
   "metadata": {},
   "source": [
    "# Multi-agent system for Transcription Comparison"
   ]
  },
  {
   "cell_type": "markdown",
   "id": "f09a96f7-d7ca-4793-8583-ae5af4fb73c5",
   "metadata": {},
   "source": [
    "### WhisperAPI Agent"
   ]
  },
  {
   "cell_type": "markdown",
   "id": "31d657b4-2afa-44fc-a9d5-c44ea3b9a14c",
   "metadata": {},
   "source": [
    "### Function"
   ]
  },
  {
   "cell_type": "code",
   "execution_count": 196,
   "id": "f46a0981-0d52-425b-9e6d-46f00b369fcf",
   "metadata": {},
   "outputs": [],
   "source": [
    "def whisper_transcribe(audio_file: str) -> str:\n",
    "    from openai import OpenAI\n",
    "    client = OpenAI()\n",
    "    \n",
    "    audio_file = open(audio_file, \"rb\")\n",
    "    transcription = client.audio.transcriptions.create(\n",
    "        model=\"whisper-1\", \n",
    "        file=audio_file, \n",
    "        response_format=\"text\"\n",
    "    )\n",
    "    print(transcription)\n",
    "    return transcription  # Make sure to return the transcription"
   ]
  },
  {
   "cell_type": "code",
   "execution_count": 198,
   "id": "df15e3a8-2f65-48f5-b641-41752e1cbf9a",
   "metadata": {},
   "outputs": [
    {
     "name": "stdout",
     "output_type": "stream",
     "text": [
      "Hello everyone, today we are diving into the incredible world of Claude 3.5 Sonic, the latest and greatest from Anthropic. Not only does it outperform some of the biggest in the game, but the real game changer is its new feature called Artifacts. But we are not gonna stop there. On today's tutorial, we are going to take it a step further and show you how to create your own custom tool to supercharge Claude's capabilities. So, let's get started.\n",
      "\n",
      "Hello everyone, today we are diving into the incredible world of Claude 3.5 Sonic, the latest and greatest from Anthropic. Not only does it outperform some of the biggest in the game, but the real game changer is its new feature called Artifacts. But we are not gonna stop there. On today's tutorial, we are going to take it a step further and show you how to create your own custom tool to supercharge Claude's capabilities. So, let's get started.\n",
      "\n"
     ]
    }
   ],
   "source": [
    "response = whisper_transcribe(\"Files/audio04.mp3\")\n",
    "print(response)"
   ]
  },
  {
   "cell_type": "code",
   "execution_count": 199,
   "id": "2df92889-7e87-4a9b-81d8-0a09dbb524ac",
   "metadata": {},
   "outputs": [
    {
     "data": {
      "text/plain": [
       "<function __main__.whisper_transcribe(audio_file: str) -> str>"
      ]
     },
     "execution_count": 199,
     "metadata": {},
     "output_type": "execute_result"
    }
   ],
   "source": [
    "import os\n",
    "from autogen import ConversableAgent\n",
    "\n",
    "# Whisper Agent\n",
    "whisper_agent = ConversableAgent(\n",
    "    name=\"WhisperAgent\",\n",
    "    system_message=\"You are a helpful AI assistant specialized in using the Whisper API for audio transcription. \"\n",
    "                   \"Always use the whisper_transcribe function for transcription tasks. \"\n",
    "                   \"Return 'TERMINATE' when the task is done.\",\n",
    "    llm_config={\n",
    "        \"config_list\":[\n",
    "            {\n",
    "                \"model\":\"gpt-4\",\n",
    "                \"api_key\": os.environ[\"OPENAI_API_KEY\"]\n",
    "            }\n",
    "        ]\n",
    "    }\n",
    ")\n",
    "\n",
    "# Whisper User Proxy\n",
    "whisper_user_proxy = ConversableAgent(\n",
    "    name = \"WhisperUser\",\n",
    "    llm_config=False,\n",
    "    is_termination_msg=lambda msg: msg.get(\"content\") is not None and \"TERMINATE\" in msg[\"content\"],\n",
    "    human_input_mode=\"NEVER\"\n",
    ")\n",
    "\n",
    "# Register the tool signature with the assistant agent.\n",
    "whisper_agent.register_for_llm(name=\"whisper_transcribe\", description=\"A transcribtion function to transcribe audio to text using Whisper API\")(whisper_transcribe)\n",
    "\n",
    "\n",
    "# Register the tool function with the user proxy agent.\n",
    "whisper_user_proxy.register_for_execution(name=\"whisper_transcribe\")(whisper_transcribe)"
   ]
  },
  {
   "cell_type": "code",
   "execution_count": 200,
   "id": "249381f4-0a9c-485b-aca7-d24ba1f931d3",
   "metadata": {},
   "outputs": [
    {
     "name": "stdout",
     "output_type": "stream",
     "text": [
      "\u001b[33mWhisperUser\u001b[0m (to WhisperAgent):\n",
      "\n",
      "Please transcribe the audio file Files/audio04.mp3 using the Whisper API.\n",
      "\n",
      "--------------------------------------------------------------------------------\n",
      "\u001b[31m\n",
      ">>>>>>>> USING AUTO REPLY...\u001b[0m\n",
      "\u001b[33mWhisperAgent\u001b[0m (to WhisperUser):\n",
      "\n",
      "\u001b[32m***** Suggested tool call (call_7iboXqmA9ukkB3LHqbHSZxog): whisper_transcribe *****\u001b[0m\n",
      "Arguments: \n",
      "{\n",
      "  \"audio_file\": \"Files/audio04.mp3\"\n",
      "}\n",
      "\u001b[32m***********************************************************************************\u001b[0m\n",
      "\n",
      "--------------------------------------------------------------------------------\n",
      "\u001b[35m\n",
      ">>>>>>>> EXECUTING FUNCTION whisper_transcribe...\u001b[0m\n",
      "Hello everyone, today we are diving into the incredible world of Claude 3.5 Sonic, the latest and greatest from Anthropic. Not only does it outperform some of the biggest in the game, but the real game changer is its new feature called Artifacts. But we are not gonna stop there. On today's tutorial, we are going to take it a step further and show you how to create your own custom tool to supercharge Claude's capabilities. So, let's get started.\n",
      "\n",
      "\u001b[33mWhisperUser\u001b[0m (to WhisperAgent):\n",
      "\n",
      "\u001b[33mWhisperUser\u001b[0m (to WhisperAgent):\n",
      "\n",
      "\u001b[32m***** Response from calling tool (call_7iboXqmA9ukkB3LHqbHSZxog) *****\u001b[0m\n",
      "Hello everyone, today we are diving into the incredible world of Claude 3.5 Sonic, the latest and greatest from Anthropic. Not only does it outperform some of the biggest in the game, but the real game changer is its new feature called Artifacts. But we are not gonna stop there. On today's tutorial, we are going to take it a step further and show you how to create your own custom tool to supercharge Claude's capabilities. So, let's get started.\n",
      "\n",
      "\u001b[32m**********************************************************************\u001b[0m\n",
      "\n",
      "--------------------------------------------------------------------------------\n",
      "\u001b[31m\n",
      ">>>>>>>> USING AUTO REPLY...\u001b[0m\n",
      "\u001b[33mWhisperAgent\u001b[0m (to WhisperUser):\n",
      "\n",
      "The transcription of the audio file (Files/audio04.mp3) is:\n",
      "\n",
      "\"Hello everyone, today we are diving into the incredible world of Claude 3.5 Sonic, the latest and greatest from Anthropic. Not only does it outperform some of the biggest in the game, but the real game changer is its new feature called Artifacts. But we are not gonna stop there. On today's tutorial, we are going to take it a step further and show you how to create your own custom tool to supercharge Claude's capabilities. So, let's get started.\" \n",
      "\n",
      "TERMINATE\n",
      "\n",
      "--------------------------------------------------------------------------------\n"
     ]
    }
   ],
   "source": [
    "audio_file = \"Files/audio04.mp3\"\n",
    "whisper_transcript = whisper_user_proxy.initiate_chat(\n",
    "    whisper_agent,\n",
    "    message = f\"Please transcribe the audio file {audio_file} using the Whisper API.\"\n",
    ")"
   ]
  },
  {
   "cell_type": "markdown",
   "id": "f34ec6bd-6392-48db-8a36-1fd2b722981f",
   "metadata": {},
   "source": [
    "### AssemblyAI Agent"
   ]
  },
  {
   "cell_type": "markdown",
   "id": "25c84f55-a17c-4fb1-8547-9f632641fdc5",
   "metadata": {},
   "source": [
    "### Function"
   ]
  },
  {
   "cell_type": "code",
   "execution_count": 203,
   "id": "70208278-7add-47e0-a841-683de1ba3d47",
   "metadata": {},
   "outputs": [],
   "source": [
    "def assemblyai_transcribe(audio_url: str) -> str:\n",
    "    import assemblyai as aai\n",
    "    aai.settings.api_key = os.environ.get(\"ASSEMBLYAI_API_KEY\")\n",
    "    FILE_URL = audio_url\n",
    "    transcriber = aai.Transcriber()\n",
    "    transcript = transcriber.transcribe(FILE_URL)\n",
    "    \n",
    "    if transcript.status == aai.TranscriptStatus.error:\n",
    "        print(transcript.error)\n",
    "    else:\n",
    "        return transcript.text"
   ]
  },
  {
   "cell_type": "code",
   "execution_count": 204,
   "id": "87aa76a9-b75b-4d7e-b05b-a8f44ae50715",
   "metadata": {},
   "outputs": [
    {
     "name": "stdout",
     "output_type": "stream",
     "text": [
      "Hello, everyone. Today we are diving into the incredible world of clothes 3.5 sonnet, the latest and greatest from Anstopic. Not only does it outperform some of the biggest in the game, but the real game changer is its new feature called artifacts. But we are not gonna stop there. On today's tutorial, we are going to take it a subfloor and show you how to create your own custom tool to supercharge clothes capabilities. So let's get started.\n"
     ]
    }
   ],
   "source": [
    "aai_response = assemblyai_transcribe(\"Files/audio04.mp3\")\n",
    "print(aai_response)"
   ]
  },
  {
   "cell_type": "markdown",
   "id": "25b08b3d-a1bb-4eff-a499-aef88d5d6714",
   "metadata": {},
   "source": [
    "### Agent"
   ]
  },
  {
   "cell_type": "code",
   "execution_count": 206,
   "id": "29756357-e49c-4365-84d9-3848727db8dd",
   "metadata": {},
   "outputs": [
    {
     "data": {
      "text/plain": [
       "<function __main__.assemblyai_transcribe(audio_url: str) -> str>"
      ]
     },
     "execution_count": 206,
     "metadata": {},
     "output_type": "execute_result"
    }
   ],
   "source": [
    "import os\n",
    "\n",
    "from autogen import ConversableAgent\n",
    "\n",
    "# AssemblyAI Agent\n",
    "assemblyai_agent = ConversableAgent(\n",
    "    name=\"AssemblyAIAgent\",\n",
    "    system_message=\"You are a helpful AI assistant specialized in using the AssemblyAI API for audio transcription. \"\n",
    "                   \"Always use the assemblyai_transcribe function for transcription tasks. \"\n",
    "                   \"Return 'TERMINATE' when the task is done.\",\n",
    "    llm_config={\"config_list\": [{\"model\": \"gpt-4\", \"api_key\": os.environ[\"OPENAI_API_KEY\"]}]},\n",
    ")\n",
    "\n",
    "# AssemblyAI User Proxy\n",
    "assemblyai_user_proxy = ConversableAgent(\n",
    "    name=\"AssemblyAIUser\",\n",
    "    llm_config=False,\n",
    "    is_termination_msg=lambda msg: msg.get(\"content\") is not None and \"TERMINATE\" in msg[\"content\"],\n",
    "    human_input_mode=\"NEVER\",\n",
    ")\n",
    "\n",
    "# Register the tool signature with the assistant agent.\n",
    "assemblyai_agent.register_for_llm(name=\"assemblyai_transcribe\", description=\"An transcription function using AssemblyAI\")(assemblyai_transcribe)\n",
    "\n",
    "# Register the tool function with the user proxy agent.\n",
    "assemblyai_user_proxy.register_for_execution(name=\"assemblyai_transcribe\")(assemblyai_transcribe)"
   ]
  },
  {
   "cell_type": "code",
   "execution_count": 207,
   "id": "de842fc8-60b1-45c3-9eb0-336ce21614e4",
   "metadata": {},
   "outputs": [
    {
     "name": "stderr",
     "output_type": "stream",
     "text": [
      "/opt/anaconda3/lib/python3.11/site-packages/autogen/agentchat/conversable_agent.py:2558: UserWarning: Function 'assemblyai_transcribe' is being overridden.\n",
      "  warnings.warn(f\"Function '{tool_sig['function']['name']}' is being overridden.\", UserWarning)\n",
      "/opt/anaconda3/lib/python3.11/site-packages/autogen/agentchat/conversable_agent.py:2477: UserWarning: Function 'assemblyai_transcribe' is being overridden.\n",
      "  warnings.warn(f\"Function '{name}' is being overridden.\", UserWarning)\n"
     ]
    }
   ],
   "source": [
    "from autogen import register_function\n",
    "\n",
    "# Register the calculator function to the two agents.\n",
    "register_function(\n",
    "    assemblyai_transcribe,\n",
    "    caller=assemblyai_agent,  \n",
    "    executor=assemblyai_user_proxy, \n",
    "    name=\"assemblyai_transcribe\",  \n",
    "    description=\"An transcription function using AssemblyAI\", \n",
    ")"
   ]
  },
  {
   "cell_type": "code",
   "execution_count": 208,
   "id": "c3e2a660-72a8-4a2a-9264-72a0ddacec74",
   "metadata": {},
   "outputs": [
    {
     "name": "stdout",
     "output_type": "stream",
     "text": [
      "\u001b[33mAssemblyAIUser\u001b[0m (to AssemblyAIAgent):\n",
      "\n",
      "please translate the following audio file Files/audio04.mp3 to text using AssemblyAI\n",
      "\n",
      "--------------------------------------------------------------------------------\n",
      "\u001b[31m\n",
      ">>>>>>>> USING AUTO REPLY...\u001b[0m\n",
      "\u001b[33mAssemblyAIAgent\u001b[0m (to AssemblyAIUser):\n",
      "\n",
      "\u001b[32m***** Suggested tool call (call_TVy4T88ecdiu0LfidtMGfq2Z): assemblyai_transcribe *****\u001b[0m\n",
      "Arguments: \n",
      "{\n",
      "\"audio_url\": \"Files/audio04.mp3\"\n",
      "}\n",
      "\u001b[32m**************************************************************************************\u001b[0m\n",
      "\n",
      "--------------------------------------------------------------------------------\n",
      "\u001b[35m\n",
      ">>>>>>>> EXECUTING FUNCTION assemblyai_transcribe...\u001b[0m\n",
      "\u001b[33mAssemblyAIUser\u001b[0m (to AssemblyAIAgent):\n",
      "\n",
      "\u001b[33mAssemblyAIUser\u001b[0m (to AssemblyAIAgent):\n",
      "\n",
      "\u001b[32m***** Response from calling tool (call_TVy4T88ecdiu0LfidtMGfq2Z) *****\u001b[0m\n",
      "Hello, everyone. Today we are diving into the incredible world of clothes 3.5 sonnet, the latest and greatest from Anstopic. Not only does it outperform some of the biggest in the game, but the real game changer is its new feature called artifacts. But we are not gonna stop there. On today's tutorial, we are going to take it a subfloor and show you how to create your own custom tool to supercharge clothes capabilities. So let's get started.\n",
      "\u001b[32m**********************************************************************\u001b[0m\n",
      "\n",
      "--------------------------------------------------------------------------------\n",
      "\u001b[31m\n",
      ">>>>>>>> USING AUTO REPLY...\u001b[0m\n",
      "\u001b[33mAssemblyAIAgent\u001b[0m (to AssemblyAIUser):\n",
      "\n",
      "The transcription for the audio file is:\n",
      "\n",
      "\"Hello, everyone. Today we are diving into the incredible world of clothes 3.5 sonnet, the latest and greatest from Anstopic. Not only does it outperform some of the biggest in the game, but the real game changer is its new feature called artifacts. But we are not gonna stop there. On today's tutorial, we are going to take it to a subfloor and show you how to create your own custom tool to supercharge clothes capabilities. So let's get started.\" \n",
      "\n",
      "TERMINATE\n",
      "\n",
      "--------------------------------------------------------------------------------\n"
     ]
    }
   ],
   "source": [
    "assemblyai_transcript = assemblyai_user_proxy.initiate_chat(assemblyai_agent, message=f\"please translate the following audio file {audio_file} to text using AssemblyAI\")"
   ]
  },
  {
   "cell_type": "markdown",
   "id": "1c548077-a026-46f2-9000-38c033502463",
   "metadata": {},
   "source": [
    "# Comparison Agent"
   ]
  },
  {
   "cell_type": "code",
   "execution_count": 212,
   "id": "a4e1fa60-5b9a-4612-a474-52f87eb9f7a8",
   "metadata": {},
   "outputs": [],
   "source": [
    "def extract_transcript(chat_result):\n",
    "    for message in reversed(chat_result.chat_history):\n",
    "        if message['role'] == 'user' and 'TERMINATE' in message['content']:\n",
    "            transcript = message['content'].split('\"')[1]  \n",
    "            return transcript\n",
    "    return None  "
   ]
  },
  {
   "cell_type": "code",
   "execution_count": 213,
   "id": "3c365023-517c-478d-b9e0-389779eab4bf",
   "metadata": {},
   "outputs": [
    {
     "name": "stdout",
     "output_type": "stream",
     "text": [
      "Hello everyone, today we are diving into the incredible world of Claude 3.5 Sonic, the latest and greatest from Anthropic. Not only does it outperform some of the biggest in the game, but the real game changer is its new feature called Artifacts. But we are not gonna stop there. On today's tutorial, we are going to take it a step further and show you how to create your own custom tool to supercharge Claude's capabilities. So, let's get started.\n"
     ]
    }
   ],
   "source": [
    "whisper_transcript = extract_transcript(whisper_transcript)\n",
    "print(whisper_transcript)"
   ]
  },
  {
   "cell_type": "code",
   "execution_count": 214,
   "id": "d22e7315-46c4-417e-943a-87b5ea5722af",
   "metadata": {},
   "outputs": [
    {
     "name": "stdout",
     "output_type": "stream",
     "text": [
      "Hello, everyone. Today we are diving into the incredible world of clothes 3.5 sonnet, the latest and greatest from Anstopic. Not only does it outperform some of the biggest in the game, but the real game changer is its new feature called artifacts. But we are not gonna stop there. On today's tutorial, we are going to take it to a subfloor and show you how to create your own custom tool to supercharge clothes capabilities. So let's get started.\n"
     ]
    }
   ],
   "source": [
    "assemblyai_transcript = extract_transcript(assemblyai_transcript)\n",
    "print(assemblyai_transcript)"
   ]
  },
  {
   "cell_type": "code",
   "execution_count": 215,
   "id": "1d61a6e9-5a05-4b04-bd0a-2ef547d7e3cb",
   "metadata": {},
   "outputs": [],
   "source": [
    "# Comparison Agent\n",
    "comparison_agent = ConversableAgent(\n",
    "    name=\"ComparisonAgent\",\n",
    "    system_message=\"\"\"You are an expert in analyzing and comparing transcriptions. \n",
    "    Your task is to compare two given transcriptions and determine which one is better based on accuracy,\n",
    "    completeness, correct spelling, and overall quality.\n",
    "    Provide your analysis in the following JSON format:\n",
    "    {\n",
    "        \"whisper_score\": <score out of 100>,\n",
    "        \"assemblyai_score\": <score out of 100>,\n",
    "        \"better_transcription\": \"<whisper or assemblyai>\",\n",
    "        \"proper_noun_errors\": [\"<list of proper noun errors>\"],\n",
    "        \"idiomatic_expression_errors\": [\"<list of idiomatic expression errors>\"],\n",
    "        \"sentence_structure_errors\": [\"<list of sentence structure errors>\"],\n",
    "        \"punctuation_errors\": [\"<list of punctuation errors>\"],\n",
    "        \"spelling_errors\": [\"<list of spelling errors>\"],\n",
    "        \"overall_analysis\": \"<your detailed analysis>\"\n",
    "    }\n",
    "    \"\"\",\n",
    "    llm_config={\n",
    "        \"config_list\": [{\"model\": \"gpt-4\", \"api_key\": os.environ[\"OPENAI_API_KEY\"]}]\n",
    "    }\n",
    ")\n",
    "\n",
    "comparison_user_proxy = ConversableAgent(\n",
    "    name=\"ComparisonUser\",\n",
    "    human_input_mode=\"NEVER\",\n",
    "    max_consecutive_auto_reply=10,\n",
    "    is_termination_msg=lambda x: True,\n",
    "    code_execution_config={\"work_dir\": \"coding\", \"use_docker\": False}\n",
    ")"
   ]
  },
  {
   "cell_type": "code",
   "execution_count": 216,
   "id": "2b3c7cc2-8a91-44cf-81a2-5797e0c1cc01",
   "metadata": {},
   "outputs": [],
   "source": [
    "# Compare Transcripts\n",
    "def compare_transcripts(whisper_transcript, assemblyai_transcript):\n",
    "    comparison_prompt = f\"\"\"\n",
    "    Compare the following two transcriptions and determine which one is better. \n",
    "    Consider factors such as accuracy, completeness, correct spelling, and overall quality.\n",
    "\n",
    "    Whisper Transcription:\n",
    "    {whisper_transcript}\n",
    "\n",
    "    AssemblyAI Transcription:\n",
    "    {assemblyai_transcript}\n",
    "\n",
    "    Provide your analysis in the requested JSON format.\n",
    "    \"\"\"\n",
    "    \n",
    "    comparison_user_proxy.initiate_chat(\n",
    "        comparison_agent,\n",
    "        message=comparison_prompt\n",
    "    )\n",
    "    \n",
    "    comparison_result = comparison_user_proxy.last_message()[\"content\"]\n",
    "    \n",
    "    try:\n",
    "        comparison_data = json.loads(comparison_result)\n",
    "        return comparison_data\n",
    "    except json.JSONDecodeError:\n",
    "        print(\"Error: Unable to parse comparison result as JSON\")\n",
    "        return None"
   ]
  },
  {
   "cell_type": "code",
   "execution_count": 217,
   "id": "43183232-34fd-4388-9027-e52a6bdc9d3f",
   "metadata": {},
   "outputs": [
    {
     "name": "stdout",
     "output_type": "stream",
     "text": [
      "\u001b[33mComparisonUser\u001b[0m (to ComparisonAgent):\n",
      "\n",
      "\n",
      "    Compare the following two transcriptions and determine which one is better. \n",
      "    Consider factors such as accuracy, completeness, correct spelling, and overall quality.\n",
      "\n",
      "    Whisper Transcription:\n",
      "    Hello everyone, today we are diving into the incredible world of Claude 3.5 Sonic, the latest and greatest from Anthropic. Not only does it outperform some of the biggest in the game, but the real game changer is its new feature called Artifacts. But we are not gonna stop there. On today's tutorial, we are going to take it a step further and show you how to create your own custom tool to supercharge Claude's capabilities. So, let's get started.\n",
      "\n",
      "    AssemblyAI Transcription:\n",
      "    Hello, everyone. Today we are diving into the incredible world of clothes 3.5 sonnet, the latest and greatest from Anstopic. Not only does it outperform some of the biggest in the game, but the real game changer is its new feature called artifacts. But we are not gonna stop there. On today's tutorial, we are going to take it to a subfloor and show you how to create your own custom tool to supercharge clothes capabilities. So let's get started.\n",
      "\n",
      "    Provide your analysis in the requested JSON format.\n",
      "    \n",
      "\n",
      "--------------------------------------------------------------------------------\n",
      "\u001b[31m\n",
      ">>>>>>>> USING AUTO REPLY...\u001b[0m\n",
      "\u001b[33mComparisonAgent\u001b[0m (to ComparisonUser):\n",
      "\n",
      "{\n",
      "    \"whisper_score\": 100,\n",
      "    \"assemblyai_score\": 80,\n",
      "    \"better_transcription\": \"whisper\",\n",
      "    \"proper_noun_errors\": [\"Claude 3.5 Sonic and Anthropic are copied as clothes 3.5 sonnet, Anstopic in the AssemblyAI transcription\"],\n",
      "    \"idiomatic_expression_errors\": [],\n",
      "    \"sentence_structure_errors\": [],\n",
      "    \"punctuation_errors\": [],\n",
      "    \"spelling_errors\": [],\n",
      "    \"overall_analysis\": \"After a careful analysis, the Whisper transcription is found to be more accurate and complete with correct spelling and overall quality. The AssemblyAI transcription contained proper noun errors, with 'Claude 3.5 Sonic' and 'Anthropic' transcribed as 'clothes 3.5 sonnet' and 'Anstopic' respectively. Also, 'take it a step further' was incorrectly copied as 'take it to a subfloor'. No spelling or punctuation errors were found. Therefore, the Whisper transcription outperforms the AssemblyAI transcription in this comparison.\"\n",
      "}\n",
      "\n",
      "--------------------------------------------------------------------------------\n",
      "Whisper Score: 100\n",
      "AssemblyAI Score: 80\n",
      "Better Transcription: whisper\n",
      "Overall Analysis: After a careful analysis, the Whisper transcription is found to be more accurate and complete with correct spelling and overall quality. The AssemblyAI transcription contained proper noun errors, with 'Claude 3.5 Sonic' and 'Anthropic' transcribed as 'clothes 3.5 sonnet' and 'Anstopic' respectively. Also, 'take it a step further' was incorrectly copied as 'take it to a subfloor'. No spelling or punctuation errors were found. Therefore, the Whisper transcription outperforms the AssemblyAI transcription in this comparison.\n",
      "Detailed Errors:\n",
      "Proper Noun Errors: Claude 3.5 Sonic and Anthropic are copied as clothes 3.5 sonnet, Anstopic in the AssemblyAI transcription\n",
      "Idiomatic Expression Errors: \n",
      "Sentence Structure Errors: \n",
      "Punctuation Errors: \n",
      "Spelling Errors: \n"
     ]
    },
    {
     "name": "stderr",
     "output_type": "stream",
     "text": [
      "🖇 AgentOps: This run's cost $0.00\n",
      "🖇 AgentOps: \u001b[34m\u001b[34mSession Replay: https://app.agentops.ai/drilldown?session_id=7fc9af68-fa1c-4994-9f5d-af4a50959ab7\u001b[0m\u001b[0m\n"
     ]
    },
    {
     "data": {
      "text/plain": [
       "Decimal('0.00')"
      ]
     },
     "execution_count": 217,
     "metadata": {},
     "output_type": "execute_result"
    }
   ],
   "source": [
    "# Now use the comparison agent\n",
    "comparison_result = compare_transcripts(whisper_transcript, assemblyai_transcript)\n",
    "\n",
    "if comparison_result:\n",
    "    print(f\"Whisper Score: {comparison_result['whisper_score']}\")\n",
    "    print(f\"AssemblyAI Score: {comparison_result['assemblyai_score']}\")\n",
    "    print(f\"Better Transcription: {comparison_result['better_transcription']}\")\n",
    "    print(f\"Overall Analysis: {comparison_result['overall_analysis']}\")\n",
    "    print(\"Detailed Errors:\")\n",
    "    for error_type, errors in comparison_result.items():\n",
    "        if error_type.endswith('_errors'):\n",
    "            print(f\"{error_type.replace('_', ' ').title()}: {', '.join(errors)}\")\n",
    "else:\n",
    "    print(\"Comparison failed.\")\n",
    "\n",
    "session_comparison_agent.end_session(\"Success\")"
   ]
  },
  {
   "cell_type": "code",
   "execution_count": null,
   "id": "283d17c2-9a68-42c4-b6d8-d2169c6bb514",
   "metadata": {},
   "outputs": [],
   "source": []
  },
  {
   "cell_type": "code",
   "execution_count": null,
   "id": "af869cc1-a8f6-43c4-820f-d35e76f37338",
   "metadata": {},
   "outputs": [],
   "source": []
  },
  {
   "cell_type": "code",
   "execution_count": null,
   "id": "5657a22a-71c6-484c-8d2b-cf913ee42178",
   "metadata": {},
   "outputs": [],
   "source": []
  },
  {
   "cell_type": "code",
   "execution_count": null,
   "id": "d4f8594e-eefd-44a2-bd82-ab916ff5a4f6",
   "metadata": {},
   "outputs": [],
   "source": []
  },
  {
   "cell_type": "code",
   "execution_count": null,
   "id": "bbde9bf0-0d73-428c-a0dd-ea81b2a11cfc",
   "metadata": {},
   "outputs": [],
   "source": []
  },
  {
   "cell_type": "code",
   "execution_count": null,
   "id": "81b5959e-eca1-4741-aba4-b7a1a023c065",
   "metadata": {},
   "outputs": [],
   "source": []
  },
  {
   "cell_type": "code",
   "execution_count": null,
   "id": "20970bc6-477b-4c6d-b494-eda78ec7e1f6",
   "metadata": {},
   "outputs": [],
   "source": []
  },
  {
   "cell_type": "code",
   "execution_count": null,
   "id": "3e3fb2cd-27ff-49a7-a22d-3155bf9bd9fb",
   "metadata": {},
   "outputs": [],
   "source": []
  },
  {
   "cell_type": "code",
   "execution_count": null,
   "id": "8d3c949b-9bb7-4e65-84b7-119b1623267a",
   "metadata": {},
   "outputs": [],
   "source": []
  },
  {
   "cell_type": "code",
   "execution_count": null,
   "id": "8da95443-d0d8-4a82-bc65-f4fbb7eae654",
   "metadata": {},
   "outputs": [],
   "source": []
  },
  {
   "cell_type": "code",
   "execution_count": null,
   "id": "05b049ce-34f1-4511-8bd6-5f2a81a786fc",
   "metadata": {},
   "outputs": [],
   "source": []
  },
  {
   "cell_type": "code",
   "execution_count": null,
   "id": "0db8d8fe-cd9c-4586-88c8-cfd18ebdd1bc",
   "metadata": {},
   "outputs": [],
   "source": []
  },
  {
   "cell_type": "code",
   "execution_count": null,
   "id": "697e063f-ad10-4fd0-941f-c0077b98f2d4",
   "metadata": {},
   "outputs": [],
   "source": []
  },
  {
   "cell_type": "code",
   "execution_count": null,
   "id": "bbacc4bf-6a20-4d2f-bbf8-5a1e81677255",
   "metadata": {},
   "outputs": [],
   "source": []
  },
  {
   "cell_type": "code",
   "execution_count": null,
   "id": "64fff333-280b-43ad-99b8-68680b514d65",
   "metadata": {},
   "outputs": [],
   "source": []
  },
  {
   "cell_type": "code",
   "execution_count": null,
   "id": "a3fb536e-a692-4d76-9a47-d54c182868a9",
   "metadata": {},
   "outputs": [],
   "source": []
  },
  {
   "cell_type": "code",
   "execution_count": null,
   "id": "5aad370a-bfe8-469d-8030-97e334090946",
   "metadata": {},
   "outputs": [],
   "source": []
  },
  {
   "cell_type": "code",
   "execution_count": null,
   "id": "e756bb11-056c-4e3b-99c8-c0d46dd40ad3",
   "metadata": {},
   "outputs": [],
   "source": []
  },
  {
   "cell_type": "code",
   "execution_count": null,
   "id": "4be5d4eb-d8bf-45b4-9b9e-9e933ca8f991",
   "metadata": {},
   "outputs": [],
   "source": []
  },
  {
   "cell_type": "code",
   "execution_count": null,
   "id": "a4f7d1e1-68d5-475a-9f15-20dc7e3a0b43",
   "metadata": {},
   "outputs": [],
   "source": []
  },
  {
   "cell_type": "code",
   "execution_count": null,
   "id": "74665e3f-ad7c-4173-944b-9341400fab55",
   "metadata": {},
   "outputs": [],
   "source": []
  }
 ],
 "metadata": {
  "kernelspec": {
   "display_name": "Python 3 (ipykernel)",
   "language": "python",
   "name": "python3"
  },
  "language_info": {
   "codemirror_mode": {
    "name": "ipython",
    "version": 3
   },
   "file_extension": ".py",
   "mimetype": "text/x-python",
   "name": "python",
   "nbconvert_exporter": "python",
   "pygments_lexer": "ipython3",
   "version": "3.11.7"
  }
 },
 "nbformat": 4,
 "nbformat_minor": 5
}
